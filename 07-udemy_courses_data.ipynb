{
 "cells": [
  {
   "cell_type": "markdown",
   "id": "c5bd703d-7549-4d2f-880f-9a205e75c1b1",
   "metadata": {},
   "source": [
    "# Data Analysis Project 7: Udemy Courses Dataset\n",
    "\n",
    "- https://youtu.be/AO5uhxa1R84?list=PLy3lFw0OTlutzXFVwttrtaRGEEyLEdnpy"
   ]
  },
  {
   "cell_type": "code",
   "execution_count": 1,
   "id": "d3170f08-adae-4b21-823d-d0eacb3acd4d",
   "metadata": {},
   "outputs": [],
   "source": [
    "import numpy as np\n",
    "import pandas as pd"
   ]
  },
  {
   "cell_type": "code",
   "execution_count": 1,
   "id": "0cfc4497-1050-4f76-a586-d3d442bc438e",
   "metadata": {
    "tags": []
   },
   "outputs": [],
   "source": [
    "df = pd.read_csv(\"data/udemy_courses.csv\")\n",
    "df.head()"
   ]
  },
  {
   "cell_type": "code",
   "execution_count": null,
   "id": "5b4714f6-34b4-4ef8-978b-2e3835d7491f",
   "metadata": {},
   "outputs": [],
   "source": [
    "df.info()"
   ]
  },
  {
   "cell_type": "markdown",
   "id": "ab9b5050-944d-492c-a345-530c95b688ee",
   "metadata": {
    "tags": []
   },
   "source": [
    "## Q1) What are all different subjects for which Udemy is offering courses ?"
   ]
  },
  {
   "cell_type": "code",
   "execution_count": null,
   "id": "d8e7e6de-b0d2-44ad-b829-c319f8d0ff0a",
   "metadata": {},
   "outputs": [],
   "source": []
  },
  {
   "cell_type": "markdown",
   "id": "316cc166-0feb-45ba-b809-a096487f4927",
   "metadata": {},
   "source": [
    "## Q2) Which subject has the maximum number of courses."
   ]
  },
  {
   "cell_type": "code",
   "execution_count": null,
   "id": "97c6a6f5-51cd-45b2-9522-ce006a9b3f40",
   "metadata": {},
   "outputs": [],
   "source": []
  },
  {
   "cell_type": "markdown",
   "id": "c3d8d0ce-d4e3-4b85-9ea2-086424c961a9",
   "metadata": {},
   "source": [
    "## Q3) Show all the courses which are Free of Cost."
   ]
  },
  {
   "cell_type": "code",
   "execution_count": null,
   "id": "9fdd637f-a63d-40e0-868e-a696d2b74fd4",
   "metadata": {},
   "outputs": [],
   "source": []
  },
  {
   "cell_type": "markdown",
   "id": "f01aa8d3-3882-427b-9fe5-c7ad6eda124f",
   "metadata": {},
   "source": [
    "## Q4) Show all the courses which are Paid."
   ]
  },
  {
   "cell_type": "code",
   "execution_count": null,
   "id": "2b757d45-f9d5-4a1b-aed4-aa2a3f185dc7",
   "metadata": {},
   "outputs": [],
   "source": []
  },
  {
   "cell_type": "markdown",
   "id": "3244fe70-aae2-4fd3-b6b3-dbc730c1a8c1",
   "metadata": {},
   "source": [
    "## Q5) Which are Top Selling Courses ?"
   ]
  },
  {
   "cell_type": "code",
   "execution_count": null,
   "id": "1f078311-8d73-4ad5-bbb9-7eb4fbccb181",
   "metadata": {},
   "outputs": [],
   "source": []
  },
  {
   "cell_type": "markdown",
   "id": "0f9fd32d-ac64-4ed7-a7e7-8adb7ebdf8d4",
   "metadata": {},
   "source": [
    "## Q6) Which are Least Selling Courses ?"
   ]
  },
  {
   "cell_type": "code",
   "execution_count": null,
   "id": "275bea06-e67e-41f5-9b76-64f5ddd6b338",
   "metadata": {},
   "outputs": [],
   "source": []
  },
  {
   "cell_type": "markdown",
   "id": "fe9ef33a-71d1-4942-8c96-2edf01ba508f",
   "metadata": {},
   "source": [
    "## Q7) Show all courses of Graphic Design where the price is below 100 ?"
   ]
  },
  {
   "cell_type": "code",
   "execution_count": null,
   "id": "2678393f-00fb-439d-ab37-d3f4a758ed52",
   "metadata": {},
   "outputs": [],
   "source": []
  },
  {
   "cell_type": "markdown",
   "id": "27126a85-2d32-4bb2-b0a7-7e8f60ddd3f2",
   "metadata": {},
   "source": [
    "## Q8) List out all the courses that are related to 'Python'."
   ]
  },
  {
   "cell_type": "code",
   "execution_count": null,
   "id": "d82c26e9-a93e-43c9-8043-96a0bfbe4cb1",
   "metadata": {},
   "outputs": [],
   "source": []
  },
  {
   "cell_type": "markdown",
   "id": "edff93b4-cd5d-43b5-86b4-baa30d98027c",
   "metadata": {},
   "source": [
    "## Q9) What are courses that were published in the year 2015 ?"
   ]
  },
  {
   "cell_type": "code",
   "execution_count": null,
   "id": "982ee1dc-ffeb-499b-8c6c-971a7dbd9486",
   "metadata": {},
   "outputs": [],
   "source": []
  },
  {
   "cell_type": "markdown",
   "id": "ba7d5f01-6339-4c7e-ac00-838b8bc2b893",
   "metadata": {},
   "source": [
    "## Q10) What is the Max. Number of Subscribers for Each Level of courses ?"
   ]
  },
  {
   "cell_type": "code",
   "execution_count": null,
   "id": "8734ab52-e3ff-4f0c-b2d6-14c8033d4ed9",
   "metadata": {},
   "outputs": [],
   "source": []
  }
 ],
 "metadata": {
  "kernelspec": {
   "display_name": "Python 3 (ipykernel)",
   "language": "python",
   "name": "python3"
  },
  "language_info": {
   "codemirror_mode": {
    "name": "ipython",
    "version": 3
   },
   "file_extension": ".py",
   "mimetype": "text/x-python",
   "name": "python",
   "nbconvert_exporter": "python",
   "pygments_lexer": "ipython3",
   "version": "3.11.2"
  }
 },
 "nbformat": 4,
 "nbformat_minor": 5
}
