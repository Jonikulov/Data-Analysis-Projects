{
 "cells": [
  {
   "cell_type": "markdown",
   "id": "c5bd703d-7549-4d2f-880f-9a205e75c1b1",
   "metadata": {},
   "source": [
    "# Data Analysis Project 7: Udemy Courses Dataset\n",
    "\n",
    "- https://youtu.be/AO5uhxa1R84?list=PLy3lFw0OTlutzXFVwttrtaRGEEyLEdnpy"
   ]
  },
  {
   "cell_type": "code",
   "execution_count": 1,
   "id": "d3170f08-adae-4b21-823d-d0eacb3acd4d",
   "metadata": {},
   "outputs": [],
   "source": [
    "import numpy as np\n",
    "import pandas as pd"
   ]
  },
  {
   "cell_type": "code",
   "execution_count": 2,
   "id": "0cfc4497-1050-4f76-a586-d3d442bc438e",
   "metadata": {},
   "outputs": [
    {
     "data": {
      "text/html": [
       "<div>\n",
       "<style scoped>\n",
       "    .dataframe tbody tr th:only-of-type {\n",
       "        vertical-align: middle;\n",
       "    }\n",
       "\n",
       "    .dataframe tbody tr th {\n",
       "        vertical-align: top;\n",
       "    }\n",
       "\n",
       "    .dataframe thead th {\n",
       "        text-align: right;\n",
       "    }\n",
       "</style>\n",
       "<table border=\"1\" class=\"dataframe\">\n",
       "  <thead>\n",
       "    <tr style=\"text-align: right;\">\n",
       "      <th></th>\n",
       "      <th>course_id</th>\n",
       "      <th>course_title</th>\n",
       "      <th>is_paid</th>\n",
       "      <th>price</th>\n",
       "      <th>num_subscribers</th>\n",
       "      <th>num_reviews</th>\n",
       "      <th>num_lectures</th>\n",
       "      <th>level</th>\n",
       "      <th>content_duration</th>\n",
       "      <th>published_timestamp</th>\n",
       "      <th>subject</th>\n",
       "    </tr>\n",
       "  </thead>\n",
       "  <tbody>\n",
       "    <tr>\n",
       "      <th>0</th>\n",
       "      <td>288942</td>\n",
       "      <td>#1 Piano Hand Coordination: Play 10th Ballad i...</td>\n",
       "      <td>True</td>\n",
       "      <td>35</td>\n",
       "      <td>3137</td>\n",
       "      <td>18</td>\n",
       "      <td>68</td>\n",
       "      <td>All Levels</td>\n",
       "      <td>1.5 hours</td>\n",
       "      <td>2014-09-18T05:07:05Z</td>\n",
       "      <td>Musical Instruments</td>\n",
       "    </tr>\n",
       "    <tr>\n",
       "      <th>1</th>\n",
       "      <td>1170074</td>\n",
       "      <td>#10 Hand Coordination - Transfer Chord Ballad ...</td>\n",
       "      <td>True</td>\n",
       "      <td>75</td>\n",
       "      <td>1593</td>\n",
       "      <td>1</td>\n",
       "      <td>41</td>\n",
       "      <td>Intermediate Level</td>\n",
       "      <td>1 hour</td>\n",
       "      <td>2017-04-12T19:06:34Z</td>\n",
       "      <td>Musical Instruments</td>\n",
       "    </tr>\n",
       "    <tr>\n",
       "      <th>2</th>\n",
       "      <td>1193886</td>\n",
       "      <td>#12 Hand Coordination: Let your Hands dance wi...</td>\n",
       "      <td>True</td>\n",
       "      <td>75</td>\n",
       "      <td>482</td>\n",
       "      <td>1</td>\n",
       "      <td>47</td>\n",
       "      <td>Intermediate Level</td>\n",
       "      <td>1.5 hours</td>\n",
       "      <td>2017-04-26T18:34:57Z</td>\n",
       "      <td>Musical Instruments</td>\n",
       "    </tr>\n",
       "    <tr>\n",
       "      <th>3</th>\n",
       "      <td>1116700</td>\n",
       "      <td>#4 Piano Hand Coordination: Fun Piano Runs in ...</td>\n",
       "      <td>True</td>\n",
       "      <td>75</td>\n",
       "      <td>850</td>\n",
       "      <td>3</td>\n",
       "      <td>43</td>\n",
       "      <td>Intermediate Level</td>\n",
       "      <td>1 hour</td>\n",
       "      <td>2017-02-21T23:48:18Z</td>\n",
       "      <td>Musical Instruments</td>\n",
       "    </tr>\n",
       "    <tr>\n",
       "      <th>4</th>\n",
       "      <td>1120410</td>\n",
       "      <td>#5  Piano Hand Coordination:  Piano Runs in 2 ...</td>\n",
       "      <td>True</td>\n",
       "      <td>75</td>\n",
       "      <td>940</td>\n",
       "      <td>3</td>\n",
       "      <td>32</td>\n",
       "      <td>Intermediate Level</td>\n",
       "      <td>37 mins</td>\n",
       "      <td>2017-02-21T23:44:49Z</td>\n",
       "      <td>Musical Instruments</td>\n",
       "    </tr>\n",
       "  </tbody>\n",
       "</table>\n",
       "</div>"
      ],
      "text/plain": [
       "   course_id                                       course_title  is_paid  \\\n",
       "0     288942  #1 Piano Hand Coordination: Play 10th Ballad i...     True   \n",
       "1    1170074  #10 Hand Coordination - Transfer Chord Ballad ...     True   \n",
       "2    1193886  #12 Hand Coordination: Let your Hands dance wi...     True   \n",
       "3    1116700  #4 Piano Hand Coordination: Fun Piano Runs in ...     True   \n",
       "4    1120410  #5  Piano Hand Coordination:  Piano Runs in 2 ...     True   \n",
       "\n",
       "  price  num_subscribers  num_reviews  num_lectures               level  \\\n",
       "0    35             3137           18            68          All Levels   \n",
       "1    75             1593            1            41  Intermediate Level   \n",
       "2    75              482            1            47  Intermediate Level   \n",
       "3    75              850            3            43  Intermediate Level   \n",
       "4    75              940            3            32  Intermediate Level   \n",
       "\n",
       "  content_duration   published_timestamp              subject  \n",
       "0        1.5 hours  2014-09-18T05:07:05Z  Musical Instruments  \n",
       "1           1 hour  2017-04-12T19:06:34Z  Musical Instruments  \n",
       "2        1.5 hours  2017-04-26T18:34:57Z  Musical Instruments  \n",
       "3           1 hour  2017-02-21T23:48:18Z  Musical Instruments  \n",
       "4          37 mins  2017-02-21T23:44:49Z  Musical Instruments  "
      ]
     },
     "execution_count": 2,
     "metadata": {},
     "output_type": "execute_result"
    }
   ],
   "source": [
    "df = pd.read_csv(\"data/udemy_courses.csv\")\n",
    "df.head()"
   ]
  },
  {
   "cell_type": "code",
   "execution_count": null,
   "id": "5b4714f6-34b4-4ef8-978b-2e3835d7491f",
   "metadata": {},
   "outputs": [],
   "source": []
  },
  {
   "cell_type": "markdown",
   "id": "ab9b5050-944d-492c-a345-530c95b688ee",
   "metadata": {
    "tags": []
   },
   "source": [
    "## Q1) What are all different subjects for which Udemy is offering courses ?"
   ]
  },
  {
   "cell_type": "code",
   "execution_count": null,
   "id": "d8e7e6de-b0d2-44ad-b829-c319f8d0ff0a",
   "metadata": {},
   "outputs": [],
   "source": []
  },
  {
   "cell_type": "markdown",
   "id": "316cc166-0feb-45ba-b809-a096487f4927",
   "metadata": {},
   "source": [
    "## Q2) Which subject has the maximum number of courses."
   ]
  },
  {
   "cell_type": "code",
   "execution_count": null,
   "id": "97c6a6f5-51cd-45b2-9522-ce006a9b3f40",
   "metadata": {},
   "outputs": [],
   "source": []
  },
  {
   "cell_type": "markdown",
   "id": "c3d8d0ce-d4e3-4b85-9ea2-086424c961a9",
   "metadata": {},
   "source": [
    "## Q3) Show all the courses which are Free of Cost."
   ]
  },
  {
   "cell_type": "code",
   "execution_count": null,
   "id": "9fdd637f-a63d-40e0-868e-a696d2b74fd4",
   "metadata": {},
   "outputs": [],
   "source": []
  },
  {
   "cell_type": "markdown",
   "id": "f01aa8d3-3882-427b-9fe5-c7ad6eda124f",
   "metadata": {},
   "source": [
    "## Q4) Show all the courses which are Paid."
   ]
  },
  {
   "cell_type": "code",
   "execution_count": null,
   "id": "2b757d45-f9d5-4a1b-aed4-aa2a3f185dc7",
   "metadata": {},
   "outputs": [],
   "source": []
  },
  {
   "cell_type": "markdown",
   "id": "3244fe70-aae2-4fd3-b6b3-dbc730c1a8c1",
   "metadata": {},
   "source": [
    "## Q5) Which are Top Selling Courses ?"
   ]
  },
  {
   "cell_type": "code",
   "execution_count": null,
   "id": "1f078311-8d73-4ad5-bbb9-7eb4fbccb181",
   "metadata": {},
   "outputs": [],
   "source": []
  },
  {
   "cell_type": "markdown",
   "id": "0f9fd32d-ac64-4ed7-a7e7-8adb7ebdf8d4",
   "metadata": {},
   "source": [
    "## Q6) Which are Least Selling Courses ?"
   ]
  },
  {
   "cell_type": "code",
   "execution_count": null,
   "id": "275bea06-e67e-41f5-9b76-64f5ddd6b338",
   "metadata": {},
   "outputs": [],
   "source": []
  },
  {
   "cell_type": "markdown",
   "id": "fe9ef33a-71d1-4942-8c96-2edf01ba508f",
   "metadata": {},
   "source": [
    "## Q7) Show all courses of Graphic Design where the price is below 100 ?"
   ]
  },
  {
   "cell_type": "code",
   "execution_count": null,
   "id": "2678393f-00fb-439d-ab37-d3f4a758ed52",
   "metadata": {},
   "outputs": [],
   "source": []
  },
  {
   "cell_type": "markdown",
   "id": "27126a85-2d32-4bb2-b0a7-7e8f60ddd3f2",
   "metadata": {},
   "source": [
    "## Q8) List out all the courses that are related to 'Python'."
   ]
  },
  {
   "cell_type": "code",
   "execution_count": null,
   "id": "d82c26e9-a93e-43c9-8043-96a0bfbe4cb1",
   "metadata": {},
   "outputs": [],
   "source": []
  },
  {
   "cell_type": "markdown",
   "id": "edff93b4-cd5d-43b5-86b4-baa30d98027c",
   "metadata": {},
   "source": [
    "## Q9) What are courses that were published in the year 2015 ?"
   ]
  },
  {
   "cell_type": "code",
   "execution_count": null,
   "id": "982ee1dc-ffeb-499b-8c6c-971a7dbd9486",
   "metadata": {},
   "outputs": [],
   "source": []
  },
  {
   "cell_type": "markdown",
   "id": "ba7d5f01-6339-4c7e-ac00-838b8bc2b893",
   "metadata": {},
   "source": [
    "## Q10) What is the Max. Number of Subscribers for Each Level of courses ?"
   ]
  },
  {
   "cell_type": "code",
   "execution_count": null,
   "id": "8734ab52-e3ff-4f0c-b2d6-14c8033d4ed9",
   "metadata": {},
   "outputs": [],
   "source": []
  }
 ],
 "metadata": {
  "kernelspec": {
   "display_name": "Python 3 (ipykernel)",
   "language": "python",
   "name": "python3"
  },
  "language_info": {
   "codemirror_mode": {
    "name": "ipython",
    "version": 3
   },
   "file_extension": ".py",
   "mimetype": "text/x-python",
   "name": "python",
   "nbconvert_exporter": "python",
   "pygments_lexer": "ipython3",
   "version": "3.11.2"
  }
 },
 "nbformat": 4,
 "nbformat_minor": 5
}
