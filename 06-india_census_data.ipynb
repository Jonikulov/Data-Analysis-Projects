{
 "cells": [
  {
   "cell_type": "markdown",
   "id": "4caa29da-fa92-4b10-9228-2c23a797780f",
   "metadata": {},
   "source": [
    "# Data Analysis Project 6: India Census 2011 Dataset\n",
    "\n",
    "- https://youtu.be/e1zKFSrKeLs?list=PLy3lFw0OTlutzXFVwttrtaRGEEyLEdnpy"
   ]
  },
  {
   "cell_type": "code",
   "execution_count": 1,
   "id": "bc5ec086-f403-427d-8da7-4406c5bc4250",
   "metadata": {},
   "outputs": [],
   "source": [
    "import numpy as np\n",
    "import pandas as pd"
   ]
  },
  {
   "cell_type": "code",
   "execution_count": 2,
   "id": "6e1b06ea-9a2f-4af4-bd23-e72cf21ee469",
   "metadata": {},
   "outputs": [
    {
     "data": {
      "text/html": [
       "<div>\n",
       "<style scoped>\n",
       "    .dataframe tbody tr th:only-of-type {\n",
       "        vertical-align: middle;\n",
       "    }\n",
       "\n",
       "    .dataframe tbody tr th {\n",
       "        vertical-align: top;\n",
       "    }\n",
       "\n",
       "    .dataframe thead th {\n",
       "        text-align: right;\n",
       "    }\n",
       "</style>\n",
       "<table border=\"1\" class=\"dataframe\">\n",
       "  <thead>\n",
       "    <tr style=\"text-align: right;\">\n",
       "      <th></th>\n",
       "      <th>District_code</th>\n",
       "      <th>State_name</th>\n",
       "      <th>District_name</th>\n",
       "      <th>Population</th>\n",
       "      <th>Male</th>\n",
       "      <th>Female</th>\n",
       "      <th>Literate</th>\n",
       "      <th>Workers</th>\n",
       "      <th>Male_Workers</th>\n",
       "      <th>Female_Workers</th>\n",
       "      <th>...</th>\n",
       "      <th>Christians</th>\n",
       "      <th>Sikhs</th>\n",
       "      <th>Buddhists</th>\n",
       "      <th>Jains</th>\n",
       "      <th>Secondary_Education</th>\n",
       "      <th>Higher_Education</th>\n",
       "      <th>Graduate_Education</th>\n",
       "      <th>Age_Group_0_29</th>\n",
       "      <th>Age_Group_30_49</th>\n",
       "      <th>Age_Group_50</th>\n",
       "    </tr>\n",
       "  </thead>\n",
       "  <tbody>\n",
       "    <tr>\n",
       "      <th>0</th>\n",
       "      <td>1</td>\n",
       "      <td>JAMMU AND KASHMIR</td>\n",
       "      <td>Kupwara</td>\n",
       "      <td>870354</td>\n",
       "      <td>474190</td>\n",
       "      <td>396164</td>\n",
       "      <td>439654</td>\n",
       "      <td>229064</td>\n",
       "      <td>190899</td>\n",
       "      <td>38165</td>\n",
       "      <td>...</td>\n",
       "      <td>1700</td>\n",
       "      <td>5600</td>\n",
       "      <td>66</td>\n",
       "      <td>39</td>\n",
       "      <td>74948</td>\n",
       "      <td>39709</td>\n",
       "      <td>21751</td>\n",
       "      <td>600759</td>\n",
       "      <td>178435</td>\n",
       "      <td>89679</td>\n",
       "    </tr>\n",
       "    <tr>\n",
       "      <th>1</th>\n",
       "      <td>2</td>\n",
       "      <td>JAMMU AND KASHMIR</td>\n",
       "      <td>Badgam</td>\n",
       "      <td>753745</td>\n",
       "      <td>398041</td>\n",
       "      <td>355704</td>\n",
       "      <td>335649</td>\n",
       "      <td>214866</td>\n",
       "      <td>162578</td>\n",
       "      <td>52288</td>\n",
       "      <td>...</td>\n",
       "      <td>1489</td>\n",
       "      <td>5559</td>\n",
       "      <td>47</td>\n",
       "      <td>6</td>\n",
       "      <td>66459</td>\n",
       "      <td>41367</td>\n",
       "      <td>27950</td>\n",
       "      <td>503223</td>\n",
       "      <td>160933</td>\n",
       "      <td>88978</td>\n",
       "    </tr>\n",
       "    <tr>\n",
       "      <th>2</th>\n",
       "      <td>3</td>\n",
       "      <td>JAMMU AND KASHMIR</td>\n",
       "      <td>Leh(Ladakh)</td>\n",
       "      <td>133487</td>\n",
       "      <td>78971</td>\n",
       "      <td>54516</td>\n",
       "      <td>93770</td>\n",
       "      <td>75079</td>\n",
       "      <td>53265</td>\n",
       "      <td>21814</td>\n",
       "      <td>...</td>\n",
       "      <td>658</td>\n",
       "      <td>1092</td>\n",
       "      <td>88635</td>\n",
       "      <td>103</td>\n",
       "      <td>16265</td>\n",
       "      <td>8923</td>\n",
       "      <td>6197</td>\n",
       "      <td>70703</td>\n",
       "      <td>41515</td>\n",
       "      <td>21019</td>\n",
       "    </tr>\n",
       "    <tr>\n",
       "      <th>3</th>\n",
       "      <td>4</td>\n",
       "      <td>JAMMU AND KASHMIR</td>\n",
       "      <td>Kargil</td>\n",
       "      <td>140802</td>\n",
       "      <td>77785</td>\n",
       "      <td>63017</td>\n",
       "      <td>86236</td>\n",
       "      <td>51873</td>\n",
       "      <td>39839</td>\n",
       "      <td>12034</td>\n",
       "      <td>...</td>\n",
       "      <td>604</td>\n",
       "      <td>1171</td>\n",
       "      <td>20126</td>\n",
       "      <td>28</td>\n",
       "      <td>16938</td>\n",
       "      <td>9826</td>\n",
       "      <td>3077</td>\n",
       "      <td>87532</td>\n",
       "      <td>35561</td>\n",
       "      <td>17488</td>\n",
       "    </tr>\n",
       "    <tr>\n",
       "      <th>4</th>\n",
       "      <td>5</td>\n",
       "      <td>JAMMU AND KASHMIR</td>\n",
       "      <td>Punch</td>\n",
       "      <td>476835</td>\n",
       "      <td>251899</td>\n",
       "      <td>224936</td>\n",
       "      <td>261724</td>\n",
       "      <td>161393</td>\n",
       "      <td>117677</td>\n",
       "      <td>43716</td>\n",
       "      <td>...</td>\n",
       "      <td>958</td>\n",
       "      <td>11188</td>\n",
       "      <td>83</td>\n",
       "      <td>10</td>\n",
       "      <td>46062</td>\n",
       "      <td>29517</td>\n",
       "      <td>13962</td>\n",
       "      <td>304979</td>\n",
       "      <td>109818</td>\n",
       "      <td>61334</td>\n",
       "    </tr>\n",
       "  </tbody>\n",
       "</table>\n",
       "<p>5 rows × 25 columns</p>\n",
       "</div>"
      ],
      "text/plain": [
       "   District_code         State_name District_name  Population    Male  Female  \\\n",
       "0              1  JAMMU AND KASHMIR       Kupwara      870354  474190  396164   \n",
       "1              2  JAMMU AND KASHMIR        Badgam      753745  398041  355704   \n",
       "2              3  JAMMU AND KASHMIR   Leh(Ladakh)      133487   78971   54516   \n",
       "3              4  JAMMU AND KASHMIR        Kargil      140802   77785   63017   \n",
       "4              5  JAMMU AND KASHMIR         Punch      476835  251899  224936   \n",
       "\n",
       "   Literate  Workers  Male_Workers  Female_Workers  ...  Christians  Sikhs  \\\n",
       "0    439654   229064        190899           38165  ...        1700   5600   \n",
       "1    335649   214866        162578           52288  ...        1489   5559   \n",
       "2     93770    75079         53265           21814  ...         658   1092   \n",
       "3     86236    51873         39839           12034  ...         604   1171   \n",
       "4    261724   161393        117677           43716  ...         958  11188   \n",
       "\n",
       "   Buddhists  Jains  Secondary_Education  Higher_Education  \\\n",
       "0         66     39                74948             39709   \n",
       "1         47      6                66459             41367   \n",
       "2      88635    103                16265              8923   \n",
       "3      20126     28                16938              9826   \n",
       "4         83     10                46062             29517   \n",
       "\n",
       "   Graduate_Education  Age_Group_0_29  Age_Group_30_49  Age_Group_50  \n",
       "0               21751          600759           178435         89679  \n",
       "1               27950          503223           160933         88978  \n",
       "2                6197           70703            41515         21019  \n",
       "3                3077           87532            35561         17488  \n",
       "4               13962          304979           109818         61334  \n",
       "\n",
       "[5 rows x 25 columns]"
      ]
     },
     "execution_count": 2,
     "metadata": {},
     "output_type": "execute_result"
    }
   ],
   "source": [
    "df = pd.read_csv(\"data/india_census.csv\")\n",
    "df.head()"
   ]
  },
  {
   "cell_type": "code",
   "execution_count": null,
   "id": "fdb2c736-ce53-4a91-8277-7e283fb3e286",
   "metadata": {},
   "outputs": [],
   "source": []
  },
  {
   "cell_type": "markdown",
   "id": "87c5ad6f-5d7c-4776-b550-fe6a08fb0391",
   "metadata": {},
   "source": [
    "## Q1: How will you hide the indexes of the dataframe."
   ]
  },
  {
   "cell_type": "code",
   "execution_count": null,
   "id": "02a02ca9-b715-49dd-a42e-6abdb71b1c7a",
   "metadata": {},
   "outputs": [],
   "source": []
  },
  {
   "cell_type": "markdown",
   "id": "4d324fed-e304-4ace-82de-c7cfa1c9a365",
   "metadata": {},
   "source": [
    "## Q2: How can we set the caption / heading on the dataframe."
   ]
  },
  {
   "cell_type": "code",
   "execution_count": null,
   "id": "07f535cc-e653-4850-a393-8cabd0e87308",
   "metadata": {},
   "outputs": [],
   "source": []
  },
  {
   "cell_type": "markdown",
   "id": "a668c334-26d6-4256-a91c-ece5872cd0d2",
   "metadata": {},
   "source": [
    "## Q3: Show the records related with the districts - New Delhi , Lucknow , Jaipur."
   ]
  },
  {
   "cell_type": "code",
   "execution_count": null,
   "id": "5bffa66b-c0c2-4e8b-8d5a-d58a3bc660c4",
   "metadata": {},
   "outputs": [],
   "source": []
  },
  {
   "cell_type": "markdown",
   "id": "a68ee110-8233-4798-b5ed-6adeec5b5c71",
   "metadata": {},
   "source": [
    "## Q4: Calculate state-wise:\n",
    "### - Total number of population.\n",
    "### - Total no. of the population with different religions."
   ]
  },
  {
   "cell_type": "code",
   "execution_count": null,
   "id": "8136b83e-2a84-46b6-9d82-e1fe595d3e2e",
   "metadata": {},
   "outputs": [],
   "source": []
  },
  {
   "cell_type": "markdown",
   "id": "7cb273b2-6b8a-4d1a-bce2-230d22000d48",
   "metadata": {},
   "source": [
    "## Q5: How many Male Workers were there in Maharashtra state ?"
   ]
  },
  {
   "cell_type": "code",
   "execution_count": null,
   "id": "82cb1079-8be9-4bda-a9e4-8dfcb87211e9",
   "metadata": {},
   "outputs": [],
   "source": []
  },
  {
   "cell_type": "markdown",
   "id": "0e2b3493-d1d9-4a56-a884-db5a80bc8dd2",
   "metadata": {},
   "source": [
    "## Q6: How to set a column as index of the dataframe ?"
   ]
  },
  {
   "cell_type": "code",
   "execution_count": null,
   "id": "f06e36cd-90b0-44ff-b609-229e41476692",
   "metadata": {},
   "outputs": [],
   "source": []
  },
  {
   "cell_type": "markdown",
   "id": "1333c8b5-00a2-424f-a0b9-d8609e67d75f",
   "metadata": {},
   "source": [
    "## Q7: Add a Suffix to the column names."
   ]
  },
  {
   "cell_type": "code",
   "execution_count": null,
   "id": "ea61be6b-cd4a-4f56-9ba8-96a476b82ba3",
   "metadata": {},
   "outputs": [],
   "source": []
  },
  {
   "cell_type": "markdown",
   "id": "c7f97ccc-9da1-4f7d-a146-b6fe4be24d3b",
   "metadata": {},
   "source": [
    "## Q8: Add a Prefix to the column names."
   ]
  },
  {
   "cell_type": "code",
   "execution_count": null,
   "id": "d5d2b2c1-de7d-4a5c-9495-8e7fe20e7bee",
   "metadata": {},
   "outputs": [],
   "source": []
  }
 ],
 "metadata": {
  "kernelspec": {
   "display_name": "Python 3 (ipykernel)",
   "language": "python",
   "name": "python3"
  },
  "language_info": {
   "codemirror_mode": {
    "name": "ipython",
    "version": 3
   },
   "file_extension": ".py",
   "mimetype": "text/x-python",
   "name": "python",
   "nbconvert_exporter": "python",
   "pygments_lexer": "ipython3",
   "version": "3.11.2"
  }
 },
 "nbformat": 4,
 "nbformat_minor": 5
}
