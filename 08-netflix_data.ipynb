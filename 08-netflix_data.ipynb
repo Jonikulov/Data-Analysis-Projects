{
 "cells": [
  {
   "cell_type": "markdown",
   "id": "2d5679cb-910c-4308-904d-36f430922729",
   "metadata": {},
   "source": [
    "# Data Analysis Project 8: Netflix Dataset\n",
    "\n",
    "- https://youtu.be/b7Kd0fLwgO4?list=PLy3lFw0OTlutzXFVwttrtaRGEEyLEdnpy"
   ]
  },
  {
   "cell_type": "code",
   "execution_count": 1,
   "id": "72adc89b-0ab2-4674-8657-ceb64a2130b7",
   "metadata": {},
   "outputs": [],
   "source": [
    "import numpy as np\n",
    "import pandas as pd"
   ]
  },
  {
   "cell_type": "code",
   "execution_count": 1,
   "id": "6d38e542-449a-4a7f-9541-5e9cb2a78cd3",
   "metadata": {},
   "outputs": [],
   "source": [
    "df = pd.read_csv(\"data/netflix.csv\")\n",
    "df.head()"
   ]
  },
  {
   "cell_type": "code",
   "execution_count": null,
   "id": "ee9ecde7-4e58-4e67-a123-7c91e171d68c",
   "metadata": {},
   "outputs": [],
   "source": [
    "df.info()"
   ]
  },
  {
   "cell_type": "markdown",
   "id": "6d455fcc-d8af-48cf-a616-c1f71762bde9",
   "metadata": {},
   "source": [
    "## Q1) Is there any Duplicate Record in this dataset ? If yes, then remove the duplicate records."
   ]
  },
  {
   "cell_type": "code",
   "execution_count": null,
   "id": "e8a5ba10-8fb3-485e-996b-eb9e93bf8dc8",
   "metadata": {},
   "outputs": [],
   "source": []
  },
  {
   "cell_type": "markdown",
   "id": "e1f84fd7-0b5a-43e7-a801-6368e8e77aee",
   "metadata": {},
   "source": [
    "## Q2) Is there any Null Value present in any column ? Show with Heat-map."
   ]
  },
  {
   "cell_type": "code",
   "execution_count": null,
   "id": "8ecad623-61c6-46ab-b13d-e3192d41970b",
   "metadata": {},
   "outputs": [],
   "source": []
  },
  {
   "cell_type": "markdown",
   "id": "5dcaa838-47d9-4e3e-a7fe-cc8f37e6eee8",
   "metadata": {},
   "source": [
    "## Q3) For 'House of Cards', what is the Show Id and Who is the Director of this show ?"
   ]
  },
  {
   "cell_type": "code",
   "execution_count": null,
   "id": "60cffe6f-2dcb-4dd9-8f9d-6a7579f2b946",
   "metadata": {},
   "outputs": [],
   "source": []
  },
  {
   "cell_type": "markdown",
   "id": "ce1bf1d3-f22b-46fa-bf8e-3a8904dabc41",
   "metadata": {},
   "source": [
    "## Q4) In which year the highest number of the TV Shows & Movies were released ? Show with Bar Graph."
   ]
  },
  {
   "cell_type": "code",
   "execution_count": null,
   "id": "5cba6c0e-a94d-4d42-9eac-9e1e07ba5d2d",
   "metadata": {},
   "outputs": [],
   "source": []
  },
  {
   "cell_type": "markdown",
   "id": "034d2be7-58a6-4051-9935-3019d0a99df6",
   "metadata": {},
   "source": [
    "## Q5) How many Movies & TV Shows are in the dataset ? Show with Bar Graph."
   ]
  },
  {
   "cell_type": "code",
   "execution_count": null,
   "id": "07dc4954-ae96-4bcf-bd8d-6f6b56100206",
   "metadata": {},
   "outputs": [],
   "source": []
  },
  {
   "cell_type": "markdown",
   "id": "81858ab5-816d-4519-b580-9e20a27f1294",
   "metadata": {},
   "source": [
    "## Q6) Show all the Movies that were released in year 2000."
   ]
  },
  {
   "cell_type": "code",
   "execution_count": null,
   "id": "08637de2-7217-4962-ac3c-1f7efd3979eb",
   "metadata": {},
   "outputs": [],
   "source": []
  },
  {
   "cell_type": "markdown",
   "id": "fc7b22e8-f36f-48b3-a610-ed06b2621f42",
   "metadata": {},
   "source": [
    "## Q7) Show only the Titles of all TV Shows that were released in India only."
   ]
  },
  {
   "cell_type": "code",
   "execution_count": null,
   "id": "04ce536d-1876-475d-8174-626f6cdb0e09",
   "metadata": {},
   "outputs": [],
   "source": []
  },
  {
   "cell_type": "markdown",
   "id": "3b5f2b2b-72fc-407c-9ae6-482b63d5f6ae",
   "metadata": {},
   "source": [
    "## Q8) Show Top 10 Directors, who gave the highest number of TV Shows & Movies to Netflix ?"
   ]
  },
  {
   "cell_type": "code",
   "execution_count": null,
   "id": "88669429-b40b-4b28-89e3-0ca335217be5",
   "metadata": {},
   "outputs": [],
   "source": []
  },
  {
   "cell_type": "markdown",
   "id": "5dff8162-f839-45d6-987d-6aa38e5d789c",
   "metadata": {},
   "source": [
    "## Q9) Show all the Records, where \"Category is Movie and Type is Comedies\" or \"Country is United Kingdom\"."
   ]
  },
  {
   "cell_type": "code",
   "execution_count": null,
   "id": "3cac2195-dcf8-4d96-9ac2-f87d905c02ca",
   "metadata": {},
   "outputs": [],
   "source": []
  },
  {
   "cell_type": "markdown",
   "id": "96b66814-6765-44e6-bb89-bbb66118d969",
   "metadata": {},
   "source": [
    "## Q10) In how many movies/shows, Tom Cruise was cast ?"
   ]
  },
  {
   "cell_type": "code",
   "execution_count": null,
   "id": "585f5274-a47e-42e8-8419-12e066d40ed3",
   "metadata": {},
   "outputs": [],
   "source": []
  },
  {
   "cell_type": "markdown",
   "id": "3f5617b5-2515-4d68-a78c-64490498fd41",
   "metadata": {},
   "source": [
    "## Q11) What are the different Ratings defined by Netflix ?"
   ]
  },
  {
   "cell_type": "code",
   "execution_count": null,
   "id": "067eacdf-50e4-4e4a-a728-6f4b667c6099",
   "metadata": {},
   "outputs": [],
   "source": []
  },
  {
   "cell_type": "markdown",
   "id": "66fa28d0-fcf9-4fef-910e-063ef34803f4",
   "metadata": {},
   "source": [
    "## Q12) How many Movies got the 'TV-14' rating, in Canada ?"
   ]
  },
  {
   "cell_type": "code",
   "execution_count": null,
   "id": "ea3882da-2a4f-4221-b400-645d7f9d64b2",
   "metadata": {},
   "outputs": [],
   "source": []
  },
  {
   "cell_type": "markdown",
   "id": "f7345b33-5a3a-4033-942a-faed3d7c49f2",
   "metadata": {},
   "source": [
    "## Q13) How many TV Shows got the 'R' rating, after year 2018 ?"
   ]
  },
  {
   "cell_type": "code",
   "execution_count": null,
   "id": "68d80d69-7737-4e5b-854a-4f3555b71992",
   "metadata": {},
   "outputs": [],
   "source": []
  },
  {
   "cell_type": "markdown",
   "id": "d6e09d98-6357-408f-a254-b361b7545ecb",
   "metadata": {},
   "source": [
    "## Q14) What is the maximum duration of a Movie/Show on Netflix ?"
   ]
  },
  {
   "cell_type": "code",
   "execution_count": null,
   "id": "5b7a61ca-a317-4d7d-8b40-dc469734055c",
   "metadata": {},
   "outputs": [],
   "source": []
  },
  {
   "cell_type": "markdown",
   "id": "1515e979-59c2-4196-a225-9784640007b4",
   "metadata": {},
   "source": [
    "## Q15) Which individual country has the Highest No. of TV Shows ?"
   ]
  },
  {
   "cell_type": "code",
   "execution_count": null,
   "id": "a8c94a72-14ec-4622-a80d-f253d563ac1f",
   "metadata": {},
   "outputs": [],
   "source": []
  },
  {
   "cell_type": "markdown",
   "id": "8652ceb6-c4ba-4587-867e-7dc841aa5030",
   "metadata": {},
   "source": [
    "## Q16) How can we sort the dataset by Year ?"
   ]
  },
  {
   "cell_type": "code",
   "execution_count": null,
   "id": "dbc05b4e-6727-45d3-aa6e-dcaf1bbfdbed",
   "metadata": {},
   "outputs": [],
   "source": []
  },
  {
   "cell_type": "markdown",
   "id": "a05963f4-4e2f-4c97-a38e-5df566b1d517",
   "metadata": {},
   "source": [
    "## Q17) Find all the instances where: Category is 'Movie' and Type is 'Dramas' or Category is 'TV Show' & Type is 'Kids' TV'."
   ]
  },
  {
   "cell_type": "code",
   "execution_count": null,
   "id": "4453e9b8-ebd8-45cd-a767-73a5c0ba63df",
   "metadata": {},
   "outputs": [],
   "source": []
  }
 ],
 "metadata": {
  "kernelspec": {
   "display_name": "Python 3 (ipykernel)",
   "language": "python",
   "name": "python3"
  },
  "language_info": {
   "codemirror_mode": {
    "name": "ipython",
    "version": 3
   },
   "file_extension": ".py",
   "mimetype": "text/x-python",
   "name": "python",
   "nbconvert_exporter": "python",
   "pygments_lexer": "ipython3",
   "version": "3.11.2"
  }
 },
 "nbformat": 4,
 "nbformat_minor": 5
}
