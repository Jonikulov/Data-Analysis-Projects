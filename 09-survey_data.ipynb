{
 "cells": [
  {
   "cell_type": "markdown",
   "id": "e67922c1-426b-4c03-858f-ead4babe8c9f",
   "metadata": {
    "tags": []
   },
   "source": [
    "# Data Analysis Project 9: Survey Dataset\n",
    "\n",
    "- https://youtu.be/uaLHWSgyrnQ?list=PLy3lFw0OTlutzXFVwttrtaRGEEyLEdnpy"
   ]
  },
  {
   "cell_type": "code",
   "execution_count": 1,
   "id": "7a57b09e-fb94-4bec-ae6d-bfd7f9960bad",
   "metadata": {},
   "outputs": [],
   "source": [
    "import numpy as np\n",
    "import pandas as pd"
   ]
  },
  {
   "cell_type": "code",
   "execution_count": 2,
   "id": "fb6f0c9d-4b0c-45fc-b910-a7131ea229b5",
   "metadata": {},
   "outputs": [
    {
     "data": {
      "text/html": [
       "<div>\n",
       "<style scoped>\n",
       "    .dataframe tbody tr th:only-of-type {\n",
       "        vertical-align: middle;\n",
       "    }\n",
       "\n",
       "    .dataframe tbody tr th {\n",
       "        vertical-align: top;\n",
       "    }\n",
       "\n",
       "    .dataframe thead th {\n",
       "        text-align: right;\n",
       "    }\n",
       "</style>\n",
       "<table border=\"1\" class=\"dataframe\">\n",
       "  <thead>\n",
       "    <tr style=\"text-align: right;\">\n",
       "      <th></th>\n",
       "      <th>response_id</th>\n",
       "      <th>collection_date</th>\n",
       "      <th>urban_rural</th>\n",
       "      <th>education</th>\n",
       "      <th>income</th>\n",
       "      <th>Vote_Now</th>\n",
       "      <th>Past_Vote</th>\n",
       "      <th>CM_satisfaction</th>\n",
       "      <th>MLA_satisfaction</th>\n",
       "      <th>age</th>\n",
       "      <th>gender</th>\n",
       "      <th>assembly_no</th>\n",
       "      <th>category</th>\n",
       "      <th>weight</th>\n",
       "    </tr>\n",
       "  </thead>\n",
       "  <tbody>\n",
       "    <tr>\n",
       "      <th>0</th>\n",
       "      <td>1</td>\n",
       "      <td>5-24-2017</td>\n",
       "      <td>Rural</td>\n",
       "      <td>12th Pass</td>\n",
       "      <td>₹ 30,000 - ₹ 50,000</td>\n",
       "      <td>BJP</td>\n",
       "      <td>BJP</td>\n",
       "      <td>Fully Dissatisfied</td>\n",
       "      <td>Fully Dissatisfied</td>\n",
       "      <td>26</td>\n",
       "      <td>Male</td>\n",
       "      <td>211</td>\n",
       "      <td>Gen</td>\n",
       "      <td>0.346969</td>\n",
       "    </tr>\n",
       "    <tr>\n",
       "      <th>1</th>\n",
       "      <td>2</td>\n",
       "      <td>5-24-2017</td>\n",
       "      <td>Rural</td>\n",
       "      <td>Graduate</td>\n",
       "      <td>₹ 20,000 - ₹ 30,000</td>\n",
       "      <td>RLSP</td>\n",
       "      <td>JD(U)</td>\n",
       "      <td>Somewhat Satisfied</td>\n",
       "      <td>Fully Dissatisfied</td>\n",
       "      <td>34</td>\n",
       "      <td>Male</td>\n",
       "      <td>189</td>\n",
       "      <td>BC</td>\n",
       "      <td>0.603419</td>\n",
       "    </tr>\n",
       "    <tr>\n",
       "      <th>2</th>\n",
       "      <td>3</td>\n",
       "      <td>5-24-2017</td>\n",
       "      <td>Rural</td>\n",
       "      <td>Graduate</td>\n",
       "      <td>₹ 5,000 - ₹ 10,000</td>\n",
       "      <td>JAP(L)</td>\n",
       "      <td>BJP</td>\n",
       "      <td>Fully Dissatisfied</td>\n",
       "      <td>Somewhat Satisfied</td>\n",
       "      <td>25</td>\n",
       "      <td>Male</td>\n",
       "      <td>191</td>\n",
       "      <td>Gen</td>\n",
       "      <td>0.673762</td>\n",
       "    </tr>\n",
       "    <tr>\n",
       "      <th>3</th>\n",
       "      <td>4</td>\n",
       "      <td>5-24-2017</td>\n",
       "      <td>Urban</td>\n",
       "      <td>Graduate</td>\n",
       "      <td>₹ 10,000 - ₹ 20,000</td>\n",
       "      <td>RJD</td>\n",
       "      <td>RJD</td>\n",
       "      <td>Fully Dissatisfied</td>\n",
       "      <td>Somewhat Satisfied</td>\n",
       "      <td>36</td>\n",
       "      <td>Male</td>\n",
       "      <td>194</td>\n",
       "      <td>Gen</td>\n",
       "      <td>1.101298</td>\n",
       "    </tr>\n",
       "    <tr>\n",
       "      <th>4</th>\n",
       "      <td>5</td>\n",
       "      <td>5-24-2017</td>\n",
       "      <td>Rural</td>\n",
       "      <td>Graduate</td>\n",
       "      <td>₹ 50,000 - ₹ 80,000</td>\n",
       "      <td>JD(U)</td>\n",
       "      <td>Did not vote</td>\n",
       "      <td>Fully Satisfied</td>\n",
       "      <td>Fully Satisfied</td>\n",
       "      <td>22</td>\n",
       "      <td>Male</td>\n",
       "      <td>176</td>\n",
       "      <td>BC</td>\n",
       "      <td>0.333505</td>\n",
       "    </tr>\n",
       "  </tbody>\n",
       "</table>\n",
       "</div>"
      ],
      "text/plain": [
       "   response_id collection_date urban_rural  education               income  \\\n",
       "0            1       5-24-2017       Rural  12th Pass  ₹ 30,000 - ₹ 50,000   \n",
       "1            2       5-24-2017       Rural   Graduate  ₹ 20,000 - ₹ 30,000   \n",
       "2            3       5-24-2017       Rural   Graduate   ₹ 5,000 - ₹ 10,000   \n",
       "3            4       5-24-2017       Urban   Graduate  ₹ 10,000 - ₹ 20,000   \n",
       "4            5       5-24-2017       Rural   Graduate  ₹ 50,000 - ₹ 80,000   \n",
       "\n",
       "  Vote_Now     Past_Vote     CM_satisfaction    MLA_satisfaction age gender  \\\n",
       "0      BJP           BJP  Fully Dissatisfied  Fully Dissatisfied  26   Male   \n",
       "1     RLSP         JD(U)  Somewhat Satisfied  Fully Dissatisfied  34   Male   \n",
       "2   JAP(L)           BJP  Fully Dissatisfied  Somewhat Satisfied  25   Male   \n",
       "3      RJD           RJD  Fully Dissatisfied  Somewhat Satisfied  36   Male   \n",
       "4    JD(U)  Did not vote     Fully Satisfied     Fully Satisfied  22   Male   \n",
       "\n",
       "   assembly_no category    weight  \n",
       "0          211      Gen  0.346969  \n",
       "1          189       BC  0.603419  \n",
       "2          191      Gen  0.673762  \n",
       "3          194      Gen  1.101298  \n",
       "4          176       BC  0.333505  "
      ]
     },
     "execution_count": 2,
     "metadata": {},
     "output_type": "execute_result"
    }
   ],
   "source": [
    "df = pd.read_csv(\"data/sample_survey.csv\")\n",
    "df.head()"
   ]
  },
  {
   "cell_type": "code",
   "execution_count": 3,
   "id": "37ab327c-d9f7-4032-bee0-10a34dc7f9ff",
   "metadata": {},
   "outputs": [
    {
     "name": "stdout",
     "output_type": "stream",
     "text": [
      "<class 'pandas.core.frame.DataFrame'>\n",
      "RangeIndex: 6867 entries, 0 to 6866\n",
      "Data columns (total 14 columns):\n",
      " #   Column            Non-Null Count  Dtype  \n",
      "---  ------            --------------  -----  \n",
      " 0   response_id       6867 non-null   int64  \n",
      " 1   collection_date   6867 non-null   object \n",
      " 2   urban_rural       6867 non-null   object \n",
      " 3   education         6867 non-null   object \n",
      " 4   income            6867 non-null   object \n",
      " 5   Vote_Now          6867 non-null   object \n",
      " 6   Past_Vote         6867 non-null   object \n",
      " 7   CM_satisfaction   6867 non-null   object \n",
      " 8   MLA_satisfaction  6867 non-null   object \n",
      " 9   age               6867 non-null   object \n",
      " 10  gender            6867 non-null   object \n",
      " 11  assembly_no       6867 non-null   int64  \n",
      " 12  category          6867 non-null   object \n",
      " 13  weight            6867 non-null   float64\n",
      "dtypes: float64(1), int64(2), object(11)\n",
      "memory usage: 751.2+ KB\n"
     ]
    }
   ],
   "source": [
    "df.info()"
   ]
  },
  {
   "cell_type": "markdown",
   "id": "84af6cb4-6edb-43a7-89f7-097297bce019",
   "metadata": {},
   "source": [
    "**Data Description:** \\\n",
    "A sample survey data (sample_survey.csv) is provided for analysis. Samples were collected over a period of nine days where the respondents were asked questions related to elections. Survey weights are in the \"weight\" column. Applicants are requested to use *python-pandas* for all data manipulations and *matplotlib* for any plotting related questions. Applicants are expected to not use *for-loops* or any kind of *iterations* for solving the questions. Use in built *pandas* functions only."
   ]
  },
  {
   "cell_type": "code",
   "execution_count": null,
   "id": "b72f1581-ed57-45b0-8e34-5941f045053e",
   "metadata": {},
   "outputs": [],
   "source": []
  },
  {
   "cell_type": "markdown",
   "id": "ba8d85ae-682d-4977-b8e6-6ab0ecfa01c1",
   "metadata": {},
   "source": [
    "## Q1) Load the dataset into a pandas dataframe. Name the variable as “survey”."
   ]
  },
  {
   "cell_type": "code",
   "execution_count": null,
   "id": "342e1521-d342-4114-8576-19ea10960af4",
   "metadata": {},
   "outputs": [],
   "source": []
  },
  {
   "cell_type": "markdown",
   "id": "31ca5343-169f-4ef6-89cb-22ec6cf7b1b3",
   "metadata": {},
   "source": [
    "## Q2) How many samples were collected on each day?"
   ]
  },
  {
   "cell_type": "code",
   "execution_count": null,
   "id": "3695780f-7c96-4210-828f-d7afe04f65b8",
   "metadata": {},
   "outputs": [],
   "source": []
  },
  {
   "cell_type": "markdown",
   "id": "383aea70-df96-4287-a351-eddc9f7718d5",
   "metadata": {},
   "source": [
    "## Q3) What proportion of the total respondents were aged less than 45?"
   ]
  },
  {
   "cell_type": "code",
   "execution_count": null,
   "id": "f280d3cb-f5f9-4e3a-9922-9f6becff02aa",
   "metadata": {},
   "outputs": [],
   "source": []
  },
  {
   "cell_type": "markdown",
   "id": "f24b0f9d-18a1-41ab-a948-61c9bd1f1b56",
   "metadata": {},
   "source": [
    "## Q4) Create a new column in the dataframe “age_group”. This column should contain the age group the respondent belongs to. The age groups are 18-25, 25-40, 40-55 and 55+. The dataframe should look like this after the column creation:\n",
    "\n",
    "|response_id|age|age_group|\n",
    "|:-|:-|:-|\n",
    "|1|26|25-40|\n",
    "|2|34|25-40|\n",
    "|3|25|25-40|\n",
    "|4|66|55+|"
   ]
  },
  {
   "cell_type": "code",
   "execution_count": null,
   "id": "df66ef6e-7322-4d74-a5bc-61c4c13af2df",
   "metadata": {},
   "outputs": [],
   "source": []
  },
  {
   "cell_type": "markdown",
   "id": "c49ba4d8-5cca-4b25-ab77-bcf820393d7d",
   "metadata": {},
   "source": [
    "## Q5) How many samples were collected for each age-group? Which age-group had the most samples?"
   ]
  },
  {
   "cell_type": "code",
   "execution_count": null,
   "id": "f597eb5d-6d51-44f4-9ef2-3a7de74bd366",
   "metadata": {},
   "outputs": [],
   "source": []
  },
  {
   "cell_type": "markdown",
   "id": "c59a5ebd-43aa-4796-aaef-d4cc4010390d",
   "metadata": {},
   "source": [
    "## Q6) What proportion of the respondents had opted for the **RJD** party in both the Vote_Now and the Past_Vote questions?"
   ]
  },
  {
   "cell_type": "code",
   "execution_count": null,
   "id": "80d39f2f-1388-4d17-a753-7f64d0652a55",
   "metadata": {},
   "outputs": [],
   "source": []
  },
  {
   "cell_type": "markdown",
   "id": "dc4d8dcb-38d0-4280-8db3-89c724244896",
   "metadata": {},
   "source": [
    "## Q7) For each day of sample collection, determine the proportion of respondents who were fully satisfied with the performance of the CM. So if there were a total of 1000 samples on day 1 and 300 out of those said they were fully satisfied, then our answer for that day would be 0.3."
   ]
  },
  {
   "cell_type": "code",
   "execution_count": null,
   "id": "c5e34381-4ede-4ffd-b6cc-319927f89a7e",
   "metadata": {},
   "outputs": [],
   "source": []
  },
  {
   "cell_type": "markdown",
   "id": "3a24a17b-c7d0-44ae-b82d-2774c2211c23",
   "metadata": {},
   "source": [
    "## Q8) In a similar fashion create a day-wise proportion of respondents that opted fully dissatisfied with their MLA. Create a line plot of the result with date on x-axis and proportions on the y-axis."
   ]
  },
  {
   "cell_type": "code",
   "execution_count": null,
   "id": "9600c624-b650-4245-9091-bc8d12ffb043",
   "metadata": {},
   "outputs": [],
   "source": []
  },
  {
   "cell_type": "markdown",
   "id": "295b3ff9-48ab-41ad-bd5e-e79329699487",
   "metadata": {},
   "source": [
    "## Q9) Create a pivot-table (or crosstab) with index as Past_Vote, Column as Vote_Now and cell values as the count of samples.\n",
    "Answer - survey.pivot_table(index = 'Past_Vote', columns = 'Vote_Now', values = 'response_id', aggfunc = 'count')"
   ]
  },
  {
   "cell_type": "code",
   "execution_count": null,
   "id": "c2b1c57d-3870-4155-b9d2-05ac8eb52976",
   "metadata": {},
   "outputs": [],
   "source": []
  },
  {
   "cell_type": "markdown",
   "id": "16b70f0c-e104-4e06-9f85-899a34b14aeb",
   "metadata": {},
   "source": [
    "## Q10) Repeat the above question with the cell values as the sum of “weight”."
   ]
  },
  {
   "cell_type": "code",
   "execution_count": null,
   "id": "6dff9154-f22a-402b-965d-1d18d9b49462",
   "metadata": {},
   "outputs": [],
   "source": []
  },
  {
   "cell_type": "markdown",
   "id": "22113b63-eee9-4756-8e03-f13b10ee1bac",
   "metadata": {},
   "source": [
    "## Q11) Create a dataframe by performing a group by over age_group and calculate the count of total samples under each age_group."
   ]
  },
  {
   "cell_type": "code",
   "execution_count": null,
   "id": "f2b7c9ea-b6d4-4c75-8932-d80d0ba09e18",
   "metadata": {},
   "outputs": [],
   "source": []
  },
  {
   "cell_type": "markdown",
   "id": "f4a5f96f-d221-4c66-8513-c559642a4cbf",
   "metadata": {},
   "source": [
    "## Q12) Create a dataframe by performing a group by over age_group and finding the count of total samples for each age_group that opted for the JD(U) party in Vote_Now."
   ]
  },
  {
   "cell_type": "code",
   "execution_count": null,
   "id": "8261ef79-a22d-405a-ab12-a0ea10fa1f94",
   "metadata": {},
   "outputs": [],
   "source": []
  },
  {
   "cell_type": "markdown",
   "id": "bafe1ce4-5909-404f-bec3-1827cd3067cd",
   "metadata": {},
   "source": [
    "## Q13) Join/Merge the two dataframes from questions 12 and 11 with the common column as age_group."
   ]
  },
  {
   "cell_type": "code",
   "execution_count": null,
   "id": "3a9f375e-3ec4-4282-9ef3-4a1347c5fa79",
   "metadata": {},
   "outputs": [],
   "source": []
  }
 ],
 "metadata": {
  "kernelspec": {
   "display_name": "Python 3 (ipykernel)",
   "language": "python",
   "name": "python3"
  },
  "language_info": {
   "codemirror_mode": {
    "name": "ipython",
    "version": 3
   },
   "file_extension": ".py",
   "mimetype": "text/x-python",
   "name": "python",
   "nbconvert_exporter": "python",
   "pygments_lexer": "ipython3",
   "version": "3.11.2"
  }
 },
 "nbformat": 4,
 "nbformat_minor": 5
}
