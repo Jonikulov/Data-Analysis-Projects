{
 "cells": [
  {
   "cell_type": "markdown",
   "id": "af7cd8a5-f773-4619-a264-143ec257604c",
   "metadata": {},
   "source": [
    "# Data Analysis Project 4: COVID-19 dataset\n",
    "\n",
    "- https://youtu.be/89eYAAPyRfo&list=PLy3lFw0OTlutzXFVwttrtaRGEEyLEdnpy"
   ]
  },
  {
   "cell_type": "code",
   "execution_count": 1,
   "id": "3e48c332-cc64-411f-9987-2b479c1f7fd8",
   "metadata": {},
   "outputs": [],
   "source": [
    "import numpy as np\n",
    "import pandas as pd"
   ]
  },
  {
   "cell_type": "code",
   "execution_count": 1,
   "id": "99f6fe0e-f045-4098-9855-24aa40ca6476",
   "metadata": {
    "tags": []
   },
   "outputs": [],
   "source": [
    "df = pd.read_csv(\"data/covid_19_data.csv\")\n",
    "df"
   ]
  },
  {
   "cell_type": "code",
   "execution_count": 2,
   "id": "34131ef3-439c-4948-bf51-6c72d633c0a8",
   "metadata": {},
   "outputs": [],
   "source": [
    "df.info()"
   ]
  },
  {
   "cell_type": "markdown",
   "id": "ae992055-bfd4-4a79-911c-921544e1c1a2",
   "metadata": {},
   "source": [
    "## Q1: Show the number of Confirmed, Deaths and Recovered cases in each Region."
   ]
  },
  {
   "cell_type": "code",
   "execution_count": null,
   "id": "124bdea2-15b0-406d-bb4d-1d8c08726540",
   "metadata": {},
   "outputs": [],
   "source": []
  },
  {
   "cell_type": "markdown",
   "id": "b4199a08-9451-4b15-ad52-9f92dcd96ffb",
   "metadata": {},
   "source": [
    "## Q2: Remove all the records where the Confirmed Cases is Less Than 10."
   ]
  },
  {
   "cell_type": "code",
   "execution_count": null,
   "id": "887b6363-0dd9-43dc-af2f-5225ecba60ce",
   "metadata": {},
   "outputs": [],
   "source": []
  },
  {
   "cell_type": "markdown",
   "id": "79118b4e-68e3-4835-81d7-47ac0ed7ec19",
   "metadata": {},
   "source": [
    "## Q3: In which Region, maximum number of Confirmed cases were recorded ?"
   ]
  },
  {
   "cell_type": "code",
   "execution_count": null,
   "id": "cc85f84f-48e7-417c-b8bc-972afdd4fa3b",
   "metadata": {},
   "outputs": [],
   "source": []
  },
  {
   "cell_type": "markdown",
   "id": "223513b6-992b-4c30-a52a-ae05766744d3",
   "metadata": {},
   "source": [
    "## Q4: In which Region, minimum number of Deaths cases were recorded ?"
   ]
  },
  {
   "cell_type": "code",
   "execution_count": null,
   "id": "a744fc98-920f-404e-9edf-b445ba279014",
   "metadata": {},
   "outputs": [],
   "source": []
  },
  {
   "cell_type": "markdown",
   "id": "edbf3e6e-3e56-4a9e-ab00-eb6361bed0cf",
   "metadata": {},
   "source": [
    "## Q5: How many Confirmed, Deaths & Recovered cases were reported from India till 29 April 2020 ?"
   ]
  },
  {
   "cell_type": "code",
   "execution_count": null,
   "id": "070d1e1b-f55a-486f-ba1e-e79e9042429b",
   "metadata": {},
   "outputs": [],
   "source": []
  },
  {
   "cell_type": "markdown",
   "id": "e4f3bf72-0ded-44ce-8a49-c4a7168ad287",
   "metadata": {},
   "source": [
    "## Q6: Sort the entire data wrt No. of Confirmed cases in ascending order."
   ]
  },
  {
   "cell_type": "code",
   "execution_count": null,
   "id": "1e1c84a9-8a3f-4da1-812e-962fde28824d",
   "metadata": {},
   "outputs": [],
   "source": []
  },
  {
   "cell_type": "markdown",
   "id": "359eba96-394c-4d5b-a1e6-b310644a0c26",
   "metadata": {},
   "source": [
    "## Q7: Sort the entire data wrt No. of Recovered cases in descending order."
   ]
  },
  {
   "cell_type": "code",
   "execution_count": null,
   "id": "c632e08a-5532-4522-a0ab-07f3113b97ff",
   "metadata": {},
   "outputs": [],
   "source": []
  }
 ],
 "metadata": {
  "kernelspec": {
   "display_name": "Python 3 (ipykernel)",
   "language": "python",
   "name": "python3"
  },
  "language_info": {
   "codemirror_mode": {
    "name": "ipython",
    "version": 3
   },
   "file_extension": ".py",
   "mimetype": "text/x-python",
   "name": "python",
   "nbconvert_exporter": "python",
   "pygments_lexer": "ipython3",
   "version": "3.11.2"
  }
 },
 "nbformat": 4,
 "nbformat_minor": 5
}
